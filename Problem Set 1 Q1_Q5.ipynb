{
 "cells": [
  {
   "cell_type": "markdown",
   "id": "3b51cb6f",
   "metadata": {},
   "source": [
    "/*------Question 1-------*/\n",
    " a) 5 integer (int)\n",
    " b) 5.0 Floating Point Number (double)\n",
    " c) 5 > 1 = True; Boolean ()\n",
    " d) '5'  Character (char)\n",
    " e) 5 * 2 =10; integer (int)\n",
    " f) '5'  *  2 = 106 integer (int)\n",
    " g) '5'  +  '2' =103 integer (int)\n",
    " h) 5 / 2 = 2 Evaluates to an integer (int)\n",
    " i) 5 % 2 =1 integer (int)\n",
    " j) {5,  2,  1}  = List of integers \n",
    " k) 5 == 3 = False; Boolean \n",
    " l) ' Pi  (the  number) = Decimal\n"
   ]
  },
  {
   "cell_type": "code",
   "execution_count": 24,
   "id": "96dd8d4b",
   "metadata": {},
   "outputs": [
    {
     "name": "stdout",
     "output_type": "stream",
     "text": [
      "Number of letters in Supercalifragilisticexpialidocious is 34\r\n"
     ]
    }
   ],
   "source": [
    "/*----------Question 2 A----------*/\n",
    "string word = \"Supercalifragilisticexpialidocious\";\n",
    "Console.WriteLine ($\"Number of letters in {word} is {word.Count()}\");"
   ]
  },
  {
   "cell_type": "code",
   "execution_count": 25,
   "id": "5722f7f5",
   "metadata": {},
   "outputs": [
    {
     "name": "stdout",
     "output_type": "stream",
     "text": [
      "Does Supercalifragilisticexpialidocious contain ice?  True\r\n"
     ]
    }
   ],
   "source": [
    "/*----------Question 2 B----------*/\n",
    "string word = \"Supercalifragilisticexpialidocious\";\n",
    "Console.WriteLine ($\"Does {word} contain ice?  {word.Contains(\"ice\")}\");"
   ]
  },
  {
   "cell_type": "code",
   "execution_count": 27,
   "id": "429fd099",
   "metadata": {},
   "outputs": [
    {
     "name": "stdout",
     "output_type": "stream",
     "text": [
      "Longest word is Bababadalgharaghtakamminarronnkonn with a length of 34\r\n"
     ]
    }
   ],
   "source": [
    "/*----------Question 2 C----------*/\n",
    "List<string> wordList = new List<string> { \"Supercalifragilisticexpialidocious\", \"Honorificabilitudinitatibus\", \"Bababadalgharaghtakamminarronnkonn\" };\n",
    "\n",
    "            int longestCount = 0;\n",
    "            string longestWord = \"\";\n",
    "\n",
    "            foreach (var word in wordList)\n",
    "            {\n",
    "                if (word.Length >= longestCount)\n",
    "                {\n",
    "                    longestCount = word.Length;\n",
    "                    longestWord = word;\n",
    "                }\n",
    "            }\n",
    "            Console.WriteLine($\"Longest word is {longestWord} with a length of {longestCount}\");\n"
   ]
  },
  {
   "cell_type": "code",
   "execution_count": 4,
   "id": "3eaf051f",
   "metadata": {},
   "outputs": [],
   "source": [
    "/*--------Question 3-----------*/\n",
    "public class TriangleArea{\n",
    "    \n",
    " public double CalculateArea(int a, int b , int c)\n",
    "        {\n",
    "            decimal s = (a + b + c) / 2;\n",
    "\n",
    "            var mul = s * (s - a) * (s - b) * (s - c);\n",
    "            double area =Math.Sqrt(Convert.ToDouble(mul) );\n",
    "\n",
    "            Console.WriteLine ($\"The area of the Triangle is {area}\");\n",
    "            return area;\n",
    "        }\n",
    "}"
   ]
  },
  {
   "cell_type": "code",
   "execution_count": 7,
   "id": "f8c54d73",
   "metadata": {},
   "outputs": [
    {
     "name": "stdout",
     "output_type": "stream",
     "text": [
      "The area of the Triangle is 1.7320508075688772\r\n"
     ]
    }
   ],
   "source": [
    "TriangleArea t= new TriangleArea();\n",
    "t.CalculateArea(2,2,2);"
   ]
  },
  {
   "cell_type": "code",
   "execution_count": 14,
   "id": "78471980",
   "metadata": {},
   "outputs": [],
   "source": [
    "/*-------Question 4-------*/\n",
    "\n",
    "public class SeperateNumbers\n",
    "{\n",
    "   public void Seperate()\n",
    "        {\n",
    "            Console.WriteLine(\"Enter the number of elements in the array\");\n",
    "            int length =Convert.ToInt16( Console.ReadLine());\n",
    "            int[] odd = new int[length];\n",
    "            int[] even = new int[length];\n",
    "\n",
    "            Console.WriteLine($\"Input {length} elements in the array:\");\n",
    "\n",
    "            int i = 0;\n",
    "            int indexOdd = 0;\n",
    "            int indexEven = 0;\n",
    "            while (i < length)\n",
    "            {\n",
    "                Console.Write($\"element - {(i + 1)}: \\t\");\n",
    "                var number =Convert.ToInt16(Console.ReadLine());\n",
    "\n",
    "                if ((number % 2) == 0)\n",
    "                {\n",
    "                    even[indexEven++] = number;\n",
    "                }\n",
    "                else\n",
    "                {\n",
    "                    odd[indexOdd++] = number;\n",
    "                }\n",
    "                i++;\n",
    "            }\n",
    "            Console.WriteLine(\"The Even numbers are: \");\n",
    "            for (int j= 0; j <indexEven; j++)\n",
    "            {\n",
    "                Console.Write($\"{even[j]} \\t\");\n",
    "            }\n",
    "            Console.WriteLine(\"\\n The Odd numbers are: \");\n",
    "            for (int j = 0; j < indexOdd; j++)\n",
    "            {\n",
    "                Console.Write($\"{odd[j]} \\t\");\n",
    "            }\n",
    "        }\n",
    "        \n",
    "}"
   ]
  },
  {
   "cell_type": "code",
   "execution_count": 27,
   "id": "56b5f98c",
   "metadata": {},
   "outputs": [],
   "source": [
    "/*-----Question 5 A----------*/\n",
    "public class InsideCheck\n",
    "{\n",
    "  public bool Inside(double x, double y, double x1, double y1, double x2,double y2)\n",
    "        {\n",
    "            bool inside = false;\n",
    "\n",
    "            if(x>=x1 && x<x2 && y>=y1&&y<y2)\n",
    "                inside = true;\n",
    "            \n",
    "            Console.WriteLine(inside);\n",
    "            \n",
    "            return inside;\n",
    "        }\n",
    "}"
   ]
  },
  {
   "cell_type": "code",
   "execution_count": 29,
   "id": "7dd77ca2",
   "metadata": {},
   "outputs": [
    {
     "name": "stdout",
     "output_type": "stream",
     "text": [
      "True\n",
      "False\n",
      "False\n",
      "True\n"
     ]
    }
   ],
   "source": [
    "InsideCheck check = new InsideCheck();\n",
    "check.Inside(1,1,0,0,2,3);\n",
    "\n",
    "check.Inside(-1,-1,0,0,2,3) ;\n",
    "\n",
    "check.Inside(1,1,0.3,0.5,1.1,0.7);\n",
    "\n",
    "check.Inside(1,1,0.5,0.2,1.1,2);\n",
    "\n"
   ]
  }
 ],
 "metadata": {
  "kernelspec": {
   "display_name": ".NET (C#)",
   "language": "C#",
   "name": ".net-csharp"
  },
  "language_info": {
   "file_extension": ".cs",
   "mimetype": "text/x-csharp",
   "name": "C#",
   "pygments_lexer": "csharp",
   "version": "8.0"
  }
 },
 "nbformat": 4,
 "nbformat_minor": 5
}
