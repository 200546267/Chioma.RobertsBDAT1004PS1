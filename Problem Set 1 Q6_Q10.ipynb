{
 "cells": [
  {
   "cell_type": "code",
   "execution_count": 16,
   "id": "e746360f",
   "metadata": {},
   "outputs": [
    {
     "name": "stdout",
     "output_type": "stream",
     "text": [
      "PigLatin of happy is appyhay\n",
      "PigLatin of enter is enterway\n"
     ]
    }
   ],
   "source": [
    "#------Question 6-------\n",
    "def pig(x):\n",
    "        \n",
    "    if x[0].lower() not in ('a', 'e', 'i', 'o', 'u'):\n",
    "        y= x[1:]+x[0]+'ay'\n",
    "    else:\n",
    "        y= x+'way'\n",
    "    print('PigLatin of '+ x +' is '+y)\n",
    "    \n",
    "pig('happy')\n",
    "pig('enter')"
   ]
  },
  {
   "cell_type": "code",
   "execution_count": 40,
   "id": "04f7e74f",
   "metadata": {},
   "outputs": [
    {
     "name": "stdout",
     "output_type": "stream",
     "text": [
      "There are 15 Patients of blood type A\n",
      "There are 13 Patients of blood type AB\n",
      "There is one Patient of blood type B\n",
      "There are 15 Patients of blood type O\n",
      "There is no Patient of blood type OO\n"
     ]
    }
   ],
   "source": [
    "#------Question 7-------\n",
    "\n",
    "def printstring(x,group):\n",
    "    if(x==0):\n",
    "         print('There is no Patient of blood type '+group)\n",
    "    elif (x==1):\n",
    "         print('There is one Patient of blood type '+group)\n",
    "    else:\n",
    "         print('There are '+ str(x) +' Patients of blood type '+group)\n",
    "\n",
    "def bloodcount(filename):\n",
    "    \n",
    "    infile = open(filename)\n",
    "    content = infile.read()\n",
    "    infile.close()\n",
    "    lenAb=0\n",
    "    lenA=0\n",
    "    lenB=0\n",
    "    lenO=0\n",
    "    lenOO=0\n",
    "    \n",
    "    wordList = content.split(' ')\n",
    "    for word in wordList:\n",
    "        if(word.lower()==\"a\"):\n",
    "            lenA+=1\n",
    "        elif (word.lower()==\"ab\"):\n",
    "            lenAb+=1\n",
    "        elif (word.lower()==\"b\"):\n",
    "            lenB+=1\n",
    "        elif (word.lower()==\"o\"):\n",
    "            lenO+=1\n",
    "        elif (word.lower()==\"oo\"):\n",
    "            lenOO+=1\n",
    "            \n",
    "    printstring(lenA,'A')\n",
    "    printstring(lenAb,'AB')\n",
    "    printstring(lenB,'B')\n",
    "    printstring(lenO,'O')\n",
    "    printstring(lenOO,'OO')\n",
    "    \n",
    "    \n",
    "\n",
    "            \n",
    "bloodcount('bloodgroup.txt')"
   ]
  },
  {
   "cell_type": "code",
   "execution_count": 65,
   "id": "35ddba5f",
   "metadata": {},
   "outputs": [
    {
     "name": "stdout",
     "output_type": "stream",
     "text": [
      "122.96544\n"
     ]
    }
   ],
   "source": [
    "#----Question 8-------\n",
    "def curconv(currency, amount):\n",
    "    infile = open('currencies.txt')\n",
    "    myCurrencies= {}\n",
    "    for file in infile.readlines():\n",
    "        wordList = file.split('\\t')\n",
    "        myCurrencies[wordList[0]]=wordList[1]\n",
    "    #print(myCurrencies)\n",
    "        \n",
    "    rate=myCurrencies[currency.upper()]  \n",
    "    converted = float(rate)*amount\n",
    "    print(converted)\n",
    "        \n",
    "curconv('eur',100) "
   ]
  },
  {
   "cell_type": "markdown",
   "id": "cc4a9d8c",
   "metadata": {},
   "source": [
    "#------Question 9------\n",
    "a) 6 +'a' produces a TypeError\n",
    "b) Referring to the 12th item of a list that has only 10 items produces an IndexError\n",
    "c) Using a value that is out of range for a function’s input, such as calling math.sqrt(-1.0) produces a ValueError\n",
    "d) Using a value that is out of range for a function’s input, such as calling math.sqrt(-1.0)  produces a NameError\n",
    "e) Trying to open a file that does not exist, such as mistyping the file name or looking in the wrong directory produces an IOError"
   ]
  },
  {
   "cell_type": "code",
   "execution_count": null,
   "id": "0c6fcbf6",
   "metadata": {},
   "outputs": [],
   "source": []
  }
 ],
 "metadata": {
  "kernelspec": {
   "display_name": "Python 3 (ipykernel)",
   "language": "python",
   "name": "python3"
  },
  "language_info": {
   "codemirror_mode": {
    "name": "ipython",
    "version": 3
   },
   "file_extension": ".py",
   "mimetype": "text/x-python",
   "name": "python",
   "nbconvert_exporter": "python",
   "pygments_lexer": "ipython3",
   "version": "3.10.9"
  }
 },
 "nbformat": 4,
 "nbformat_minor": 5
}
